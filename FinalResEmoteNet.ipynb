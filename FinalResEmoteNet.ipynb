{
  "nbformat": 4,
  "nbformat_minor": 0,
  "metadata": {
    "colab": {
      "provenance": [],
      "gpuType": "T4",
      "include_colab_link": true
    },
    "kernelspec": {
      "name": "python3",
      "display_name": "Python 3"
    },
    "language_info": {
      "name": "python"
    },
    "accelerator": "GPU"
  },
  "cells": [
    {
      "cell_type": "markdown",
      "metadata": {
        "id": "view-in-github",
        "colab_type": "text"
      },
      "source": [
        "<a href=\"https://colab.research.google.com/github/fasfaisa/ResEmotNet_FaceEmotion_Recognition/blob/main/FinalResEmoteNet.ipynb\" target=\"_parent\"><img src=\"https://colab.research.google.com/assets/colab-badge.svg\" alt=\"Open In Colab\"/></a>"
      ]
    },
    {
      "source": [
        "import torch\n",
        "import pandas as pd\n",
        "import numpy as np\n",
        "import os\n",
        "from PIL import Image\n",
        "from tqdm import tqdm\n",
        "import torch.nn as nn\n",
        "import torch.nn.functional as F\n",
        "from torch.utils.data import Dataset, DataLoader\n",
        "from torchvision import transforms\n",
        "import torch.optim as optim\n",
        "import matplotlib.pyplot as plt\n",
        "import zipfile\n",
        "import seaborn as sns\n",
        "from sklearn.metrics import confusion_matrix, classification_report\n",
        "\n",
        "# Check for available device\n",
        "device = torch.device(\"cuda\" if torch.cuda.is_available() else\n",
        "                      \"mps\" if torch.backends.mps.is_available() else \"cpu\")\n",
        "print(f\"Using {device} device\")\n",
        "\n",
        "# Mount Google Drive (if not already mounted)\n",
        "from google.colab import drive\n",
        "drive.mount('/content/drive')\n",
        "drive_path = \"/content/drive/MyDrive/RAF-DB.zip\"\n",
        "extract_path = \"/content/drive/MyDrive/RAF-DB\"\n",
        "\n",
        "# Extract only if not already extracted\n",
        "if not os.path.exists(extract_path):\n",
        "    with zipfile.ZipFile(drive_path, 'r') as zip_ref:\n",
        "        zip_ref.extractall(extract_path)\n",
        "\n",
        "# Define emotion class names\n",
        "emotion_names = [\n",
        "    'Surprised',\n",
        "    'Fearful',\n",
        "    'Disgusted',\n",
        "    'Happy',\n",
        "    'Sad',\n",
        "    'Angry',\n",
        "    'Neutral'\n",
        "]"
      ],
      "cell_type": "code",
      "metadata": {
        "colab": {
          "base_uri": "https://localhost:8080/"
        },
        "id": "RVTJ82C4dP0B",
        "outputId": "91a6e551-46f8-4d5f-d4d0-75f998f6572b"
      },
      "execution_count": 1,
      "outputs": [
        {
          "output_type": "stream",
          "name": "stdout",
          "text": [
            "Using cuda device\n",
            "Mounted at /content/drive\n"
          ]
        }
      ]
    },
    {
      "cell_type": "code",
      "source": [
        "class RAFDB(Dataset):\n",
        "    def __init__(self, img_dir, label_file, transform=None):\n",
        "        self.img_dir = img_dir\n",
        "        self.transform = transform\n",
        "\n",
        "        # Read the label file\n",
        "        df = pd.read_csv(label_file)\n",
        "        print(f\"Label file columns: {df.columns.tolist()}\")\n",
        "\n",
        "        # Assuming first column is filename, second column is label\n",
        "        filename_col = df.columns[0]\n",
        "        label_col = df.columns[1]\n",
        "\n",
        "        filenames_raw = df[filename_col].tolist()\n",
        "        labels_raw = df[label_col].tolist()\n",
        "\n",
        "        # Find all image files in the directory structure\n",
        "        all_image_paths = []\n",
        "        for root, dirs, files in os.walk(img_dir):\n",
        "            for file in files:\n",
        "                if file.lower().endswith(('.jpg', '.jpeg', '.png')):\n",
        "                    all_image_paths.append(os.path.join(root, file))\n",
        "\n",
        "        print(f\"Found {len(all_image_paths)} total image files in directory structure\")\n",
        "\n",
        "        # Check if exact filenames match\n",
        "        self.filenames = []\n",
        "        self.valid_labels = []\n",
        "\n",
        "        for i, raw_name in enumerate(filenames_raw):\n",
        "            # Try to find the file by its base name\n",
        "            base_name = os.path.basename(raw_name)\n",
        "            matching_files = [p for p in all_image_paths if os.path.basename(p) == base_name]\n",
        "\n",
        "            if matching_files:\n",
        "                self.filenames.append(matching_files[0])  # Use the first match\n",
        "                # Convert 1-indexed labels to 0-indexed\n",
        "                self.valid_labels.append(labels_raw[i] - 1)  # Subtract 1 to make 0-indexed\n",
        "\n",
        "        print(f\"Successfully matched {len(self.filenames)} out of {len(filenames_raw)} files\")\n",
        "\n",
        "        # Print some label statistics after conversion\n",
        "        unique_labels = sorted(set(self.valid_labels))\n",
        "        print(f\"After converting to 0-indexed, unique labels are: {unique_labels}\")\n",
        "\n",
        "    def __len__(self):\n",
        "        return len(self.filenames)\n",
        "\n",
        "    def __getitem__(self, idx):\n",
        "        if torch.is_tensor(idx):\n",
        "            idx = idx.tolist()\n",
        "\n",
        "        img_path = self.filenames[idx]\n",
        "        image = Image.open(img_path).convert('RGB')\n",
        "        label = self.valid_labels[idx]\n",
        "\n",
        "        if self.transform:\n",
        "            image = self.transform(image)\n",
        "\n",
        "        return image, label"
      ],
      "metadata": {
        "id": "8WQ3GnMzvgxR"
      },
      "execution_count": 9,
      "outputs": []
    },
    {
      "cell_type": "code",
      "source": [
        "\n",
        "# SE Block for attention mechanism\n",
        "class SEBlock(nn.Module):\n",
        "    def __init__(self, in_channels, reduction=16):\n",
        "        super(SEBlock, self).__init__()\n",
        "        self.avg_pool = nn.AdaptiveAvgPool2d(1)\n",
        "        self.fc = nn.Sequential(\n",
        "            nn.Linear(in_channels, in_channels // reduction, bias=False),\n",
        "            nn.ReLU(inplace=True),\n",
        "            nn.Linear(in_channels // reduction, in_channels, bias=False),\n",
        "            nn.Sigmoid()\n",
        "        )\n",
        "\n",
        "    def forward(self, x):\n",
        "        b, c, _, _ = x.size()\n",
        "        y = self.avg_pool(x).view(b, c)\n",
        "        y = self.fc(y).view(b, c, 1, 1)\n",
        "        return x * y.expand_as(x)\n",
        "\n"
      ],
      "metadata": {
        "id": "g-ydXhDQvg9I"
      },
      "execution_count": 3,
      "outputs": []
    },
    {
      "cell_type": "code",
      "source": [
        "# Residual Block\n",
        "class ResidualBlock(nn.Module):\n",
        "    def __init__(self, in_ch, out_ch, stride=1):\n",
        "        super(ResidualBlock, self).__init__()\n",
        "        self.conv1 = nn.Conv2d(in_ch, out_ch, kernel_size=3, stride=stride, padding=1)\n",
        "        self.bn1 = nn.BatchNorm2d(out_ch)\n",
        "        self.conv2 = nn.Conv2d(out_ch, out_ch, kernel_size=3, stride=1, padding=1)\n",
        "        self.bn2 = nn.BatchNorm2d(out_ch)\n",
        "\n",
        "        self.shortcut = nn.Sequential()\n",
        "        if stride != 1 or in_ch != out_ch:\n",
        "            self.shortcut = nn.Sequential(\n",
        "                nn.Conv2d(in_ch, out_ch, kernel_size=1, stride=stride, padding=0),\n",
        "                nn.BatchNorm2d(out_ch)\n",
        "            )\n",
        "\n",
        "    def forward(self, x):\n",
        "        out = F.relu(self.bn1(self.conv1(x)))\n",
        "        out = self.bn2(self.conv2(out))\n",
        "        out += self.shortcut(x)\n",
        "        out = F.relu(out)\n",
        "        return out"
      ],
      "metadata": {
        "id": "OLJXX6H0vhKX"
      },
      "execution_count": 4,
      "outputs": []
    },
    {
      "cell_type": "code",
      "source": [
        "class ResEmoteNet(nn.Module):\n",
        "    def __init__(self, num_classes=7):\n",
        "        super(ResEmoteNet, self).__init__()\n",
        "        self.conv1 = nn.Conv2d(3, 64, kernel_size=3, padding=1)\n",
        "        self.bn1 = nn.BatchNorm2d(64)\n",
        "        self.conv2 = nn.Conv2d(64, 128, kernel_size=3, padding=1)\n",
        "        self.bn2 = nn.BatchNorm2d(128)\n",
        "        self.conv3 = nn.Conv2d(128, 256, kernel_size=3, padding=1)\n",
        "        self.bn3 = nn.BatchNorm2d(256)\n",
        "        self.relu = nn.ReLU(inplace=True)\n",
        "        self.se = SEBlock(256)\n",
        "\n",
        "        self.res_block1 = ResidualBlock(256, 512, stride=2)\n",
        "        self.res_block2 = ResidualBlock(512, 1024, stride=2)\n",
        "        self.res_block3 = ResidualBlock(1024, 2048, stride=2)\n",
        "\n",
        "        self.pool = nn.AdaptiveAvgPool2d((1, 1))\n",
        "        self.fc1 = nn.Linear(2048, 1024)\n",
        "        self.fc2 = nn.Linear(1024, 512)\n",
        "        self.fc3 = nn.Linear(512, 256)\n",
        "        self.dropout1 = nn.Dropout(0.2)\n",
        "        self.dropout2 = nn.Dropout(0.5)\n",
        "        self.fc4 = nn.Linear(256, num_classes)\n",
        "\n",
        "    def forward(self, x):\n",
        "        x = F.relu(self.bn1(self.conv1(x)))\n",
        "        x = F.max_pool2d(x, 2)\n",
        "        x = self.dropout1(x)\n",
        "        x = F.relu(self.bn2(self.conv2(x)))\n",
        "        x = F.max_pool2d(x, 2)\n",
        "        x = self.dropout1(x)\n",
        "        x = F.relu(self.bn3(self.conv3(x)))\n",
        "        x = F.max_pool2d(x, 2)\n",
        "        x = self.se(x)\n",
        "\n",
        "        x = self.res_block1(x)\n",
        "        x = self.res_block2(x)\n",
        "        x = self.res_block3(x)\n",
        "\n",
        "        x = self.pool(x)\n",
        "        x = x.view(x.size(0), -1) # Flatten before fully connected layers\n",
        "        x = F.relu(self.fc1(x))\n",
        "        x = self.dropout2(x)\n",
        "        x = F.relu(self.fc2(x))\n",
        "        x = self.dropout2(x)\n",
        "        x = F.relu(self.fc3(x))\n",
        "        x = self.dropout2(x)\n",
        "        x = self.fc4(x)\n",
        "        return x"
      ],
      "metadata": {
        "id": "6ZYh38Jp6e5-"
      },
      "execution_count": null,
      "outputs": []
    },
    {
      "cell_type": "code",
      "source": [
        "\n",
        "def save_model_to_drive(model, optimizer, epoch, best_acc,\n",
        "                         train_losses, test_losses,\n",
        "                         train_accuracies, test_accuracies):\n",
        "    # Specify path in Google Drive\n",
        "    drive_save_path = '/content/drive/MyDrive/emotion_models/rafdb_final_model.pth'\n",
        "\n",
        "    # Ensure directory exists\n",
        "    os.makedirs(os.path.dirname(drive_save_path), exist_ok=True)\n",
        "\n",
        "    torch.save({\n",
        "        'model': model.state_dict(),\n",
        "        'optimizer': optimizer.state_dict(),\n",
        "        'epoch': epoch,\n",
        "        'best_acc': best_acc,\n",
        "        'train_losses': train_losses,\n",
        "        'test_losses': test_losses,\n",
        "        'train_accuracies': train_accuracies,\n",
        "        'test_accuracies': test_accuracies\n",
        "    }, drive_save_path)\n",
        "    print(f\"Final model saved to {drive_save_path}\")"
      ],
      "metadata": {
        "id": "NlY_cp31izzg"
      },
      "execution_count": 6,
      "outputs": []
    },
    {
      "cell_type": "code",
      "source": [
        "\n",
        "def plot_detailed_confusion_matrix(y_true, y_pred):\n",
        "    \"\"\"\n",
        "    Create a detailed confusion matrix visualization with emotion names\n",
        "    \"\"\"\n",
        "    # Compute confusion matrix\n",
        "    cm = confusion_matrix(y_true, y_pred)\n",
        "\n",
        "    # Normalize the confusion matrix\n",
        "    cm_normalized = cm.astype('float') / cm.sum(axis=1)[:, np.newaxis]\n",
        "\n",
        "    # Create a figure with two subplots\n",
        "    plt.figure(figsize=(16, 7))\n",
        "\n",
        "    # Absolute values subplot\n",
        "    plt.subplot(1, 2, 1)\n",
        "    sns.heatmap(cm, annot=True, fmt='d', cmap='Blues',\n",
        "                xticklabels=emotion_names,\n",
        "                yticklabels=emotion_names)\n",
        "    plt.title('Confusion Matrix (Absolute Values)')\n",
        "    plt.xlabel('Predicted Emotion')\n",
        "    plt.ylabel('True Emotion')\n",
        "    plt.xticks(rotation=45)\n",
        "    plt.yticks(rotation=0)\n",
        "\n",
        "    # Normalized subplot\n",
        "    plt.subplot(1, 2, 2)\n",
        "    sns.heatmap(cm_normalized, annot=True, fmt='.2f', cmap='YlGnBu',\n",
        "                xticklabels=emotion_names,\n",
        "                yticklabels=emotion_names)\n",
        "    plt.title('Confusion Matrix (Normalized)')\n",
        "    plt.xlabel('Predicted Emotion')\n",
        "    plt.ylabel('True Emotion')\n",
        "    plt.xticks(rotation=45)\n",
        "    plt.yticks(rotation=0)\n",
        "\n",
        "    plt.tight_layout()\n",
        "    plt.savefig('/content/drive/MyDrive/emotion_models/detailed_confusion_matrix.png', dpi=300, bbox_inches='tight')\n",
        "    plt.close()\n",
        "\n",
        "    return cm, cm_normalized"
      ],
      "metadata": {
        "id": "u4MqXudti-e2"
      },
      "execution_count": 7,
      "outputs": []
    },
    {
      "cell_type": "code",
      "source": [
        "\n",
        "\n",
        "def main():\n",
        "    # Transform the dataset\n",
        "    transform_train = transforms.Compose([\n",
        "        transforms.Resize((100, 100)),\n",
        "        transforms.RandomCrop(96),\n",
        "        transforms.RandomHorizontalFlip(),\n",
        "        transforms.RandomRotation(10),  # New: Random rotation\n",
        "        transforms.ColorJitter(brightness=0.2, contrast=0.2),  # New: Color jittering\n",
        "        transforms.ToTensor(),\n",
        "        transforms.Normalize(\n",
        "            mean=[0.485, 0.456, 0.406],\n",
        "            std=[0.229, 0.224, 0.225]\n",
        "        )\n",
        "    ])\n",
        "\n",
        "    # This part was indented causing the error\n",
        "    # Corrected the indentation here\n",
        "    transform_test = transforms.Compose([\n",
        "        transforms.Resize((100, 100)),\n",
        "        transforms.CenterCrop(96),\n",
        "        transforms.ToTensor(),\n",
        "        transforms.Normalize(\n",
        "            mean=[0.485, 0.456, 0.406],\n",
        "            std=[0.229, 0.224, 0.225]\n",
        "        )\n",
        "    ])\n",
        "\n",
        "     # Path configuration for RAF-DB\n",
        "    base_dir = '/content/drive/MyDrive'  # Changed base_dir to include the Google Drive path\n",
        "    train_img_dir = os.path.join(base_dir, 'RAF-DB/DATASET/train')\n",
        "    test_img_dir = os.path.join(base_dir, 'RAF-DB/DATASET/test')\n",
        "    train_label_file = os.path.join(base_dir, 'RAF-DB/train_labels.csv')  # Updated path\n",
        "    test_label_file = os.path.join(base_dir, 'RAF-DB/test_labels.csv')  # Updated path\n",
        "\n",
        "\n",
        "    # Check if paths exist\n",
        "    print(f\"Train images directory exists: {os.path.exists(train_img_dir)}\")\n",
        "    print(f\"Test images directory exists: {os.path.exists(test_img_dir)}\")\n",
        "    print(f\"Train label file exists: {os.path.exists(train_label_file)}\")\n",
        "    print(f\"Test label file exists: {os.path.exists(test_label_file)}\")\n",
        "\n",
        "    # Load datasets\n",
        "    train_dataset = RAFDB(\n",
        "        img_dir=train_img_dir,\n",
        "        label_file=train_label_file,\n",
        "        transform=transform_train\n",
        "    )\n",
        "\n",
        "    test_dataset = RAFDB(\n",
        "        img_dir=test_img_dir,\n",
        "        label_file=test_label_file,\n",
        "        transform=transform_test\n",
        "    )\n",
        "\n",
        "    # Check the range of labels\n",
        "    all_labels = train_dataset.valid_labels + test_dataset.valid_labels\n",
        "    unique_labels = sorted(set(all_labels))\n",
        "    print(f\"Unique labels in dataset: {unique_labels}\")\n",
        "    num_classes = max(unique_labels) + 1\n",
        "    print(f\"Setting num_classes to {num_classes}\")\n",
        "\n",
        "    # Create data loaders\n",
        "    train_loader = DataLoader(train_dataset, batch_size=64, shuffle=True, num_workers=2)\n",
        "    test_loader = DataLoader(test_dataset, batch_size=64, shuffle=False, num_workers=2)\n",
        "\n",
        "    # Initialize model with the correct number of classes\n",
        "    num_classes = 7  # Assuming 0-6 are the valid classes\n",
        "    model = ResEmoteNet(num_classes=num_classes).to(device)\n",
        "    # Print model summary\n",
        "    total_params = sum(p.numel() for p in model.parameters())\n",
        "    print(f'{total_params:,} total parameters.')\n",
        "    print(f\"Training with {len(train_dataset)} images, testing with {len(test_dataset)} images\")\n",
        "\n",
        "    # Loss function and optimizer\n",
        "    criterion = nn.CrossEntropyLoss()\n",
        "    optimizer = optim.Adam(model.parameters(), lr=0.001, weight_decay=5e-4)  # Adam instead of SGD\n",
        "    scheduler = optim.lr_scheduler.CosineAnnealingLR(optimizer, T_max=30)  # New: Cosine LR schedule\n",
        "\n",
        "    # Training parameters\n",
        "    num_epochs = 80\n",
        "    best_acc = 0.0\n",
        "    patience = 15\n",
        "    patience_counter = 0\n",
        "\n",
        "    # Lists to store metrics\n",
        "    train_losses = []\n",
        "    test_losses = []\n",
        "    train_accuracies = []\n",
        "    test_accuracies = []\n",
        "\n",
        "    # Training loop\n",
        "    for epoch in range(num_epochs):\n",
        "        # Train phase\n",
        "        model.train()\n",
        "        running_loss = 0.0\n",
        "        correct = 0\n",
        "        total = 0\n",
        "\n",
        "        for batch_idx, (inputs, targets) in enumerate(tqdm(train_loader, desc=f\"Epoch {epoch+1}/{num_epochs}\")):\n",
        "            inputs, targets = inputs.to(device), targets.to(device)\n",
        "\n",
        "            optimizer.zero_grad()\n",
        "            outputs = model(inputs)\n",
        "            loss = criterion(outputs, targets)\n",
        "            loss.backward()\n",
        "            optimizer.step()\n",
        "\n",
        "            running_loss += loss.item()\n",
        "            _, predicted = outputs.max(1)\n",
        "            total += targets.size(0)\n",
        "            correct += predicted.eq(targets).sum().item()\n",
        "\n",
        "        train_loss = running_loss / len(train_loader)\n",
        "        train_acc = 100. * correct / total\n",
        "        train_losses.append(train_loss)\n",
        "        train_accuracies.append(train_acc)\n",
        "\n",
        "        # Test phase\n",
        "        model.eval()\n",
        "        test_loss = 0\n",
        "        correct = 0\n",
        "        total = 0\n",
        "\n",
        "        with torch.no_grad():\n",
        "            for batch_idx, (inputs, targets) in enumerate(test_loader):\n",
        "                inputs, targets = inputs.to(device), targets.to(device)\n",
        "                outputs = model(inputs)\n",
        "                loss = criterion(outputs, targets)\n",
        "\n",
        "                test_loss += loss.item()\n",
        "                _, predicted = outputs.max(1)\n",
        "                total += targets.size(0)\n",
        "                correct += predicted.eq(targets).sum().item()\n",
        "\n",
        "        test_loss /= len(test_loader)\n",
        "        test_acc = 100. * correct / total\n",
        "        test_losses.append(test_loss)\n",
        "        test_accuracies.append(test_acc)\n",
        "\n",
        "        # Update learning rate\n",
        "        scheduler.step(test_acc)\n",
        "\n",
        "        # Print epoch results\n",
        "        print(f'Epoch: {epoch+1} | Train Loss: {train_loss:.3f} | Train Acc: {train_acc:.3f}% | Test Loss: {test_loss:.3f} | Test Acc: {test_acc:.3f}%')\n",
        "\n",
        "        # Save best model\n",
        "        if test_acc > best_acc:\n",
        "            print(f'Saving best model with accuracy: {test_acc:.3f}%')\n",
        "            best_acc = test_acc\n",
        "            patience_counter = 0\n",
        "        else:\n",
        "            patience_counter += 1\n",
        "            print(f\"No improvement for {patience_counter} epochs. Best accuracy: {best_acc:.3f}%\")\n",
        "\n",
        "        # Early stopping\n",
        "        if patience_counter >= patience:\n",
        "            print(f\"Early stopping after {patience} epochs without improvement\")\n",
        "            break\n",
        "\n",
        "    # Save final model to Google Drive\n",
        "    save_model_to_drive(model, optimizer, epoch, best_acc,\n",
        "                         train_losses, test_losses,\n",
        "                         train_accuracies, test_accuracies)\n",
        "\n",
        "    # Save final results\n",
        "    results_df = pd.DataFrame({\n",
        "        'Epoch': range(1, len(train_losses) + 1),\n",
        "        'Train Loss': train_losses,\n",
        "        'Test Loss': test_losses,\n",
        "        'Train Accuracy': train_accuracies,\n",
        "        'Test Accuracy': test_accuracies\n",
        "    })\n",
        "    results_df.to_csv('/content/drive/MyDrive/emotion_models/rafdb_results.csv', index=False)\n",
        "\n",
        "    # Plot training curves\n",
        "    plt.figure(figsize=(12, 5))\n",
        "\n",
        "    plt.subplot(1, 2, 1)\n",
        "    plt.plot(train_losses, label='Train Loss')\n",
        "    plt.plot(test_losses, label='Test Loss')\n",
        "    plt.title('Loss Curves')\n",
        "    plt.xlabel('Epoch')\n",
        "    plt.ylabel('Loss')\n",
        "    plt.legend()\n",
        "\n",
        "    plt.subplot(1, 2, 2)\n",
        "    plt.plot(train_accuracies, label='Train Accuracy')\n",
        "    plt.plot(test_accuracies, label='Test Accuracy')\n",
        "    plt.title('Accuracy Curves')\n",
        "    plt.xlabel('Epoch')\n",
        "    plt.ylabel('Accuracy (%)')\n",
        "    plt.legend()\n",
        "\n",
        "    plt.tight_layout()\n",
        "    plt.savefig('/content/drive/MyDrive/emotion_models/rafdb_training_curves.png')\n",
        "    plt.close()\n",
        "\n",
        "    print(f\"Best test accuracy: {best_acc:.3f}%\")\n",
        "\n",
        "    # Evaluation and Confusion Matrix\n",
        "    # Recreate the model architecture\n",
        "    model = ResEmoteNet(num_classes=num_classes).to(device)\n",
        "\n",
        "    # Load the saved model state\n",
        "    checkpoint = torch.load('/content/drive/MyDrive/emotion_models/rafdb_final_model.pth')\n",
        "    model.load_state_dict(checkpoint['model'])\n",
        "    model.eval()\n",
        "\n",
        "    # Collect true and predicted labels\n",
        "    y_true = []\n",
        "    y_pred = []\n",
        "    with torch.no_grad():\n",
        "        for inputs, targets in test_loader:\n",
        "            inputs, targets = inputs.to(device), targets.to(device)\n",
        "            outputs = model(inputs)\n",
        "            _, predicted = outputs.max(1)\n",
        "\n",
        "            y_true.extend(targets.cpu().numpy())\n",
        "            y_pred.extend(predicted.cpu().numpy())\n",
        "\n",
        "    # Generate detailed confusion matrix\n",
        "    cm, cm_normalized = plot_detailed_confusion_matrix(y_true, y_pred)\n",
        "\n",
        "    # Print classification report with emotion names\n",
        "    print(\"\\nClassification Report:\")\n",
        "    print(classification_report(y_true, y_pred, target_names=emotion_names))\n",
        "\n",
        "    # Emotion-wise accuracy visualization\n",
        "    plt.figure(figsize=(10, 6))\n",
        "    class_accuracy = [sum((np.array(y_true) == c) & (np.array(y_pred) == c)) / sum(np.array(y_true) == c) * 100\n",
        "                      for c in range(num_classes)]\n",
        "\n",
        "    plt.bar(range(num_classes), class_accuracy)\n",
        "    plt.title('Accuracy per Emotion')\n",
        "    plt.xlabel('Emotion')\n",
        "    plt.ylabel('Accuracy (%)')\n",
        "    plt.xticks(range(num_classes), emotion_names, rotation=45)\n",
        "    plt.tight_layout()\n",
        "    plt.savefig('/content/drive/MyDrive/emotion_models/class_accuracy.png', dpi=300, bbox_inches='tight')\n",
        "    plt.close()\n",
        "\n",
        "    print(\"\\nEmotion-wise Accuracy:\")\n",
        "    for c, acc in enumerate(class_accuracy):\n",
        "        print(f\"{emotion_names[c]}: {acc:.2f}%\")\n",
        "\n",
        "if __name__ == \"__main__\":\n",
        "    main()"
      ],
      "metadata": {
        "colab": {
          "base_uri": "https://localhost:8080/"
        },
        "id": "0AXOzdeL6fJo",
        "outputId": "b8059a61-8039-4af3-cab1-1554adf68257"
      },
      "execution_count": 8,
      "outputs": [
        {
          "metadata": {
            "tags": null
          },
          "name": "stdout",
          "output_type": "stream",
          "text": [
            "Train images directory exists: True\n",
            "Test images directory exists: True\n",
            "Train label file exists: True\n",
            "Test label file exists: True\n",
            "Label file columns: ['image', 'label']\n",
            "Found 12271 total image files in directory structure\n",
            "Successfully matched 12271 out of 12271 files\n",
            "After converting to 0-indexed, unique labels are: [0, 1, 2, 3, 4, 5, 6]\n",
            "Label file columns: ['image', 'label']\n",
            "Found 3068 total image files in directory structure\n",
            "Successfully matched 3068 out of 3068 files\n",
            "After converting to 0-indexed, unique labels are: [0, 1, 2, 3, 4, 5, 6]\n",
            "Unique labels in dataset: [0, 1, 2, 3, 4, 5, 6]\n",
            "Setting num_classes to 7\n",
            "80,238,599 total parameters.\n",
            "Training with 12271 images, testing with 3068 images\n"
          ]
        },
        {
          "metadata": {
            "tags": null
          },
          "name": "stderr",
          "output_type": "stream",
          "text": [
            "Epoch 1/80: 100%|██████████| 192/192 [00:58<00:00,  3.27it/s]\n",
            "/usr/local/lib/python3.11/dist-packages/torch/optim/lr_scheduler.py:243: UserWarning: The epoch parameter in `scheduler.step()` was not necessary and is being deprecated where possible. Please use `scheduler.step()` to step the scheduler. During the deprecation, if epoch is different from None, the closed form is used instead of the new chainable form, where available. Please open an issue if you are unable to replicate your use case: https://github.com/pytorch/pytorch/issues/new/choose.\n",
            "  warnings.warn(EPOCH_DEPRECATION_WARNING, UserWarning)\n"
          ]
        },
        {
          "metadata": {
            "tags": null
          },
          "name": "stdout",
          "output_type": "stream",
          "text": [
            "Epoch: 1 | Train Loss: 1.532 | Train Acc: 42.776% | Test Loss: 1.358 | Test Acc: 52.021%\n",
            "Saving best model with accuracy: 52.021%\n"
          ]
        },
        {
          "metadata": {
            "tags": null
          },
          "name": "stderr",
          "output_type": "stream",
          "text": [
            "Epoch 2/80: 100%|██████████| 192/192 [00:53<00:00,  3.61it/s]\n"
          ]
        },
        {
          "metadata": {
            "tags": null
          },
          "name": "stdout",
          "output_type": "stream",
          "text": [
            "Epoch: 2 | Train Loss: 1.332 | Train Acc: 51.088% | Test Loss: 1.229 | Test Acc: 53.585%\n",
            "Saving best model with accuracy: 53.585%\n"
          ]
        },
        {
          "metadata": {
            "tags": null
          },
          "name": "stderr",
          "output_type": "stream",
          "text": [
            "Epoch 3/80: 100%|██████████| 192/192 [00:53<00:00,  3.60it/s]\n"
          ]
        },
        {
          "metadata": {
            "tags": null
          },
          "name": "stdout",
          "output_type": "stream",
          "text": [
            "Epoch: 3 | Train Loss: 1.286 | Train Acc: 53.720% | Test Loss: 1.167 | Test Acc: 58.963%\n",
            "Saving best model with accuracy: 58.963%\n"
          ]
        },
        {
          "metadata": {
            "tags": null
          },
          "name": "stderr",
          "output_type": "stream",
          "text": [
            "Epoch 4/80: 100%|██████████| 192/192 [00:54<00:00,  3.56it/s]\n"
          ]
        },
        {
          "metadata": {
            "tags": null
          },
          "name": "stdout",
          "output_type": "stream",
          "text": [
            "Epoch: 4 | Train Loss: 1.246 | Train Acc: 56.132% | Test Loss: 1.231 | Test Acc: 58.279%\n",
            "No improvement for 1 epochs. Best accuracy: 58.963%\n"
          ]
        },
        {
          "metadata": {
            "tags": null
          },
          "name": "stderr",
          "output_type": "stream",
          "text": [
            "Epoch 5/80: 100%|██████████| 192/192 [00:52<00:00,  3.63it/s]\n"
          ]
        },
        {
          "metadata": {
            "tags": null
          },
          "name": "stdout",
          "output_type": "stream",
          "text": [
            "Epoch: 5 | Train Loss: 1.206 | Train Acc: 57.779% | Test Loss: 1.117 | Test Acc: 61.538%\n",
            "Saving best model with accuracy: 61.538%\n"
          ]
        },
        {
          "metadata": {
            "tags": null
          },
          "name": "stderr",
          "output_type": "stream",
          "text": [
            "Epoch 6/80: 100%|██████████| 192/192 [00:54<00:00,  3.56it/s]\n"
          ]
        },
        {
          "metadata": {
            "tags": null
          },
          "name": "stdout",
          "output_type": "stream",
          "text": [
            "Epoch: 6 | Train Loss: 1.158 | Train Acc: 60.011% | Test Loss: 1.015 | Test Acc: 63.787%\n",
            "Saving best model with accuracy: 63.787%\n"
          ]
        },
        {
          "metadata": {
            "tags": null
          },
          "name": "stderr",
          "output_type": "stream",
          "text": [
            "Epoch 7/80: 100%|██████████| 192/192 [00:54<00:00,  3.53it/s]\n"
          ]
        },
        {
          "metadata": {
            "tags": null
          },
          "name": "stdout",
          "output_type": "stream",
          "text": [
            "Epoch: 7 | Train Loss: 1.106 | Train Acc: 60.802% | Test Loss: 1.018 | Test Acc: 63.885%\n",
            "Saving best model with accuracy: 63.885%\n"
          ]
        },
        {
          "metadata": {
            "tags": null
          },
          "name": "stderr",
          "output_type": "stream",
          "text": [
            "Epoch 8/80: 100%|██████████| 192/192 [00:53<00:00,  3.62it/s]\n"
          ]
        },
        {
          "metadata": {
            "tags": null
          },
          "name": "stdout",
          "output_type": "stream",
          "text": [
            "Epoch: 8 | Train Loss: 1.059 | Train Acc: 63.581% | Test Loss: 0.930 | Test Acc: 69.394%\n",
            "Saving best model with accuracy: 69.394%\n"
          ]
        },
        {
          "metadata": {
            "tags": null
          },
          "name": "stderr",
          "output_type": "stream",
          "text": [
            "Epoch 9/80: 100%|██████████| 192/192 [00:53<00:00,  3.61it/s]\n"
          ]
        },
        {
          "metadata": {
            "tags": null
          },
          "name": "stdout",
          "output_type": "stream",
          "text": [
            "Epoch: 9 | Train Loss: 0.979 | Train Acc: 66.604% | Test Loss: 0.815 | Test Acc: 72.229%\n",
            "Saving best model with accuracy: 72.229%\n"
          ]
        },
        {
          "metadata": {
            "tags": null
          },
          "name": "stderr",
          "output_type": "stream",
          "text": [
            "Epoch 10/80: 100%|██████████| 192/192 [00:53<00:00,  3.59it/s]\n"
          ]
        },
        {
          "metadata": {
            "tags": null
          },
          "name": "stdout",
          "output_type": "stream",
          "text": [
            "Epoch: 10 | Train Loss: 0.904 | Train Acc: 69.611% | Test Loss: 0.803 | Test Acc: 71.806%\n",
            "No improvement for 1 epochs. Best accuracy: 72.229%\n"
          ]
        },
        {
          "metadata": {
            "tags": null
          },
          "name": "stderr",
          "output_type": "stream",
          "text": [
            "Epoch 11/80: 100%|██████████| 192/192 [00:52<00:00,  3.63it/s]\n"
          ]
        },
        {
          "metadata": {
            "tags": null
          },
          "name": "stdout",
          "output_type": "stream",
          "text": [
            "Epoch: 11 | Train Loss: 0.885 | Train Acc: 70.410% | Test Loss: 0.738 | Test Acc: 74.218%\n",
            "Saving best model with accuracy: 74.218%\n"
          ]
        },
        {
          "metadata": {
            "tags": null
          },
          "name": "stderr",
          "output_type": "stream",
          "text": [
            "Epoch 12/80: 100%|██████████| 192/192 [00:53<00:00,  3.57it/s]\n"
          ]
        },
        {
          "metadata": {
            "tags": null
          },
          "name": "stdout",
          "output_type": "stream",
          "text": [
            "Epoch: 12 | Train Loss: 0.825 | Train Acc: 72.089% | Test Loss: 0.697 | Test Acc: 76.076%\n",
            "Saving best model with accuracy: 76.076%\n"
          ]
        },
        {
          "metadata": {
            "tags": null
          },
          "name": "stderr",
          "output_type": "stream",
          "text": [
            "Epoch 13/80: 100%|██████████| 192/192 [00:51<00:00,  3.73it/s]\n"
          ]
        },
        {
          "metadata": {
            "tags": null
          },
          "name": "stdout",
          "output_type": "stream",
          "text": [
            "Epoch: 13 | Train Loss: 0.778 | Train Acc: 73.384% | Test Loss: 0.680 | Test Acc: 76.499%\n",
            "Saving best model with accuracy: 76.499%\n"
          ]
        },
        {
          "metadata": {
            "tags": null
          },
          "name": "stderr",
          "output_type": "stream",
          "text": [
            "Epoch 14/80: 100%|██████████| 192/192 [00:50<00:00,  3.82it/s]\n"
          ]
        },
        {
          "metadata": {
            "tags": null
          },
          "name": "stdout",
          "output_type": "stream",
          "text": [
            "Epoch: 14 | Train Loss: 0.745 | Train Acc: 74.957% | Test Loss: 0.648 | Test Acc: 77.705%\n",
            "Saving best model with accuracy: 77.705%\n"
          ]
        },
        {
          "metadata": {
            "tags": null
          },
          "name": "stderr",
          "output_type": "stream",
          "text": [
            "Epoch 15/80: 100%|██████████| 192/192 [00:51<00:00,  3.75it/s]\n"
          ]
        },
        {
          "metadata": {
            "tags": null
          },
          "name": "stdout",
          "output_type": "stream",
          "text": [
            "Epoch: 15 | Train Loss: 0.704 | Train Acc: 76.261% | Test Loss: 0.638 | Test Acc: 78.520%\n",
            "Saving best model with accuracy: 78.520%\n"
          ]
        },
        {
          "metadata": {
            "tags": null
          },
          "name": "stderr",
          "output_type": "stream",
          "text": [
            "Epoch 16/80: 100%|██████████| 192/192 [00:50<00:00,  3.81it/s]\n"
          ]
        },
        {
          "metadata": {
            "tags": null
          },
          "name": "stdout",
          "output_type": "stream",
          "text": [
            "Epoch: 16 | Train Loss: 0.674 | Train Acc: 77.426% | Test Loss: 0.597 | Test Acc: 79.824%\n",
            "Saving best model with accuracy: 79.824%\n"
          ]
        },
        {
          "metadata": {
            "tags": null
          },
          "name": "stderr",
          "output_type": "stream",
          "text": [
            "Epoch 17/80: 100%|██████████| 192/192 [00:50<00:00,  3.77it/s]\n"
          ]
        },
        {
          "metadata": {
            "tags": null
          },
          "name": "stdout",
          "output_type": "stream",
          "text": [
            "Epoch: 17 | Train Loss: 0.645 | Train Acc: 78.421% | Test Loss: 0.610 | Test Acc: 80.150%\n",
            "Saving best model with accuracy: 80.150%\n"
          ]
        },
        {
          "metadata": {
            "tags": null
          },
          "name": "stderr",
          "output_type": "stream",
          "text": [
            "Epoch 18/80: 100%|██████████| 192/192 [00:50<00:00,  3.83it/s]\n"
          ]
        },
        {
          "metadata": {
            "tags": null
          },
          "name": "stdout",
          "output_type": "stream",
          "text": [
            "Epoch: 18 | Train Loss: 0.619 | Train Acc: 79.007% | Test Loss: 0.565 | Test Acc: 80.020%\n",
            "No improvement for 1 epochs. Best accuracy: 80.150%\n"
          ]
        },
        {
          "metadata": {
            "tags": null
          },
          "name": "stderr",
          "output_type": "stream",
          "text": [
            "Epoch 19/80: 100%|██████████| 192/192 [00:50<00:00,  3.78it/s]\n"
          ]
        },
        {
          "metadata": {
            "tags": null
          },
          "name": "stdout",
          "output_type": "stream",
          "text": [
            "Epoch: 19 | Train Loss: 0.598 | Train Acc: 80.132% | Test Loss: 0.596 | Test Acc: 80.183%\n",
            "Saving best model with accuracy: 80.183%\n"
          ]
        },
        {
          "metadata": {
            "tags": null
          },
          "name": "stderr",
          "output_type": "stream",
          "text": [
            "Epoch 20/80: 100%|██████████| 192/192 [00:50<00:00,  3.79it/s]\n"
          ]
        },
        {
          "metadata": {
            "tags": null
          },
          "name": "stdout",
          "output_type": "stream",
          "text": [
            "Epoch: 20 | Train Loss: 0.568 | Train Acc: 81.289% | Test Loss: 0.570 | Test Acc: 81.160%\n",
            "Saving best model with accuracy: 81.160%\n"
          ]
        },
        {
          "metadata": {
            "tags": null
          },
          "name": "stderr",
          "output_type": "stream",
          "text": [
            "Epoch 21/80: 100%|██████████| 192/192 [00:50<00:00,  3.78it/s]\n"
          ]
        },
        {
          "metadata": {
            "tags": null
          },
          "name": "stdout",
          "output_type": "stream",
          "text": [
            "Epoch: 21 | Train Loss: 0.543 | Train Acc: 81.876% | Test Loss: 0.561 | Test Acc: 81.519%\n",
            "Saving best model with accuracy: 81.519%\n"
          ]
        },
        {
          "metadata": {
            "tags": null
          },
          "name": "stderr",
          "output_type": "stream",
          "text": [
            "Epoch 22/80: 100%|██████████| 192/192 [00:50<00:00,  3.79it/s]\n"
          ]
        },
        {
          "metadata": {
            "tags": null
          },
          "name": "stdout",
          "output_type": "stream",
          "text": [
            "Epoch: 22 | Train Loss: 0.520 | Train Acc: 83.009% | Test Loss: 0.550 | Test Acc: 81.584%\n",
            "Saving best model with accuracy: 81.584%\n"
          ]
        },
        {
          "metadata": {
            "tags": null
          },
          "name": "stderr",
          "output_type": "stream",
          "text": [
            "Epoch 23/80: 100%|██████████| 192/192 [00:49<00:00,  3.87it/s]\n"
          ]
        },
        {
          "metadata": {
            "tags": null
          },
          "name": "stdout",
          "output_type": "stream",
          "text": [
            "Epoch: 23 | Train Loss: 0.496 | Train Acc: 83.856% | Test Loss: 0.583 | Test Acc: 81.551%\n",
            "No improvement for 1 epochs. Best accuracy: 81.584%\n"
          ]
        },
        {
          "metadata": {
            "tags": null
          },
          "name": "stderr",
          "output_type": "stream",
          "text": [
            "Epoch 24/80: 100%|██████████| 192/192 [00:50<00:00,  3.81it/s]\n"
          ]
        },
        {
          "metadata": {
            "tags": null
          },
          "name": "stdout",
          "output_type": "stream",
          "text": [
            "Epoch: 24 | Train Loss: 0.486 | Train Acc: 84.190% | Test Loss: 0.560 | Test Acc: 82.399%\n",
            "Saving best model with accuracy: 82.399%\n"
          ]
        },
        {
          "metadata": {
            "tags": null
          },
          "name": "stderr",
          "output_type": "stream",
          "text": [
            "Epoch 25/80: 100%|██████████| 192/192 [00:49<00:00,  3.86it/s]\n"
          ]
        },
        {
          "metadata": {
            "tags": null
          },
          "name": "stdout",
          "output_type": "stream",
          "text": [
            "Epoch: 25 | Train Loss: 0.456 | Train Acc: 85.005% | Test Loss: 0.548 | Test Acc: 82.660%\n",
            "Saving best model with accuracy: 82.660%\n"
          ]
        },
        {
          "metadata": {
            "tags": null
          },
          "name": "stderr",
          "output_type": "stream",
          "text": [
            "Epoch 26/80: 100%|██████████| 192/192 [00:50<00:00,  3.80it/s]\n"
          ]
        },
        {
          "metadata": {
            "tags": null
          },
          "name": "stdout",
          "output_type": "stream",
          "text": [
            "Epoch: 26 | Train Loss: 0.432 | Train Acc: 86.114% | Test Loss: 0.582 | Test Acc: 81.845%\n",
            "No improvement for 1 epochs. Best accuracy: 82.660%\n"
          ]
        },
        {
          "metadata": {
            "tags": null
          },
          "name": "stderr",
          "output_type": "stream",
          "text": [
            "Epoch 27/80: 100%|██████████| 192/192 [00:51<00:00,  3.74it/s]\n"
          ]
        },
        {
          "metadata": {
            "tags": null
          },
          "name": "stdout",
          "output_type": "stream",
          "text": [
            "Epoch: 27 | Train Loss: 0.439 | Train Acc: 85.926% | Test Loss: 0.540 | Test Acc: 82.529%\n",
            "No improvement for 2 epochs. Best accuracy: 82.660%\n"
          ]
        },
        {
          "metadata": {
            "tags": null
          },
          "name": "stderr",
          "output_type": "stream",
          "text": [
            "Epoch 28/80: 100%|██████████| 192/192 [00:51<00:00,  3.74it/s]\n"
          ]
        },
        {
          "metadata": {
            "tags": null
          },
          "name": "stdout",
          "output_type": "stream",
          "text": [
            "Epoch: 28 | Train Loss: 0.400 | Train Acc: 87.067% | Test Loss: 0.559 | Test Acc: 82.692%\n",
            "Saving best model with accuracy: 82.692%\n"
          ]
        },
        {
          "metadata": {
            "tags": null
          },
          "name": "stderr",
          "output_type": "stream",
          "text": [
            "Epoch 29/80: 100%|██████████| 192/192 [00:50<00:00,  3.79it/s]\n"
          ]
        },
        {
          "metadata": {
            "tags": null
          },
          "name": "stdout",
          "output_type": "stream",
          "text": [
            "Epoch: 29 | Train Loss: 0.389 | Train Acc: 87.523% | Test Loss: 0.559 | Test Acc: 82.920%\n",
            "Saving best model with accuracy: 82.920%\n"
          ]
        },
        {
          "metadata": {
            "tags": null
          },
          "name": "stderr",
          "output_type": "stream",
          "text": [
            "Epoch 30/80: 100%|██████████| 192/192 [00:50<00:00,  3.80it/s]\n"
          ]
        },
        {
          "metadata": {
            "tags": null
          },
          "name": "stdout",
          "output_type": "stream",
          "text": [
            "Epoch: 30 | Train Loss: 0.378 | Train Acc: 87.809% | Test Loss: 0.564 | Test Acc: 82.660%\n",
            "No improvement for 1 epochs. Best accuracy: 82.920%\n"
          ]
        },
        {
          "metadata": {
            "tags": null
          },
          "name": "stderr",
          "output_type": "stream",
          "text": [
            "Epoch 31/80: 100%|██████████| 192/192 [00:50<00:00,  3.81it/s]\n"
          ]
        },
        {
          "metadata": {
            "tags": null
          },
          "name": "stdout",
          "output_type": "stream",
          "text": [
            "Epoch: 31 | Train Loss: 0.368 | Train Acc: 88.078% | Test Loss: 0.586 | Test Acc: 81.714%\n",
            "No improvement for 2 epochs. Best accuracy: 82.920%\n"
          ]
        },
        {
          "metadata": {
            "tags": null
          },
          "name": "stderr",
          "output_type": "stream",
          "text": [
            "Epoch 32/80: 100%|██████████| 192/192 [00:49<00:00,  3.89it/s]\n"
          ]
        },
        {
          "metadata": {
            "tags": null
          },
          "name": "stdout",
          "output_type": "stream",
          "text": [
            "Epoch: 32 | Train Loss: 0.370 | Train Acc: 88.045% | Test Loss: 0.572 | Test Acc: 82.301%\n",
            "No improvement for 3 epochs. Best accuracy: 82.920%\n"
          ]
        },
        {
          "metadata": {
            "tags": null
          },
          "name": "stderr",
          "output_type": "stream",
          "text": [
            "Epoch 33/80: 100%|██████████| 192/192 [00:50<00:00,  3.80it/s]\n"
          ]
        },
        {
          "metadata": {
            "tags": null
          },
          "name": "stdout",
          "output_type": "stream",
          "text": [
            "Epoch: 33 | Train Loss: 0.357 | Train Acc: 88.363% | Test Loss: 0.574 | Test Acc: 83.018%\n",
            "Saving best model with accuracy: 83.018%\n"
          ]
        },
        {
          "metadata": {
            "tags": null
          },
          "name": "stderr",
          "output_type": "stream",
          "text": [
            "Epoch 34/80: 100%|██████████| 192/192 [00:49<00:00,  3.86it/s]\n"
          ]
        },
        {
          "metadata": {
            "tags": null
          },
          "name": "stdout",
          "output_type": "stream",
          "text": [
            "Epoch: 34 | Train Loss: 0.332 | Train Acc: 89.675% | Test Loss: 0.598 | Test Acc: 81.975%\n",
            "No improvement for 1 epochs. Best accuracy: 83.018%\n"
          ]
        },
        {
          "metadata": {
            "tags": null
          },
          "name": "stderr",
          "output_type": "stream",
          "text": [
            "Epoch 35/80: 100%|██████████| 192/192 [00:51<00:00,  3.74it/s]\n"
          ]
        },
        {
          "metadata": {
            "tags": null
          },
          "name": "stdout",
          "output_type": "stream",
          "text": [
            "Epoch: 35 | Train Loss: 0.338 | Train Acc: 89.088% | Test Loss: 0.582 | Test Acc: 82.660%\n",
            "No improvement for 2 epochs. Best accuracy: 83.018%\n"
          ]
        },
        {
          "metadata": {
            "tags": null
          },
          "name": "stderr",
          "output_type": "stream",
          "text": [
            "Epoch 36/80: 100%|██████████| 192/192 [00:51<00:00,  3.76it/s]\n"
          ]
        },
        {
          "metadata": {
            "tags": null
          },
          "name": "stdout",
          "output_type": "stream",
          "text": [
            "Epoch: 36 | Train Loss: 0.307 | Train Acc: 90.164% | Test Loss: 0.605 | Test Acc: 82.073%\n",
            "No improvement for 3 epochs. Best accuracy: 83.018%\n"
          ]
        },
        {
          "metadata": {
            "tags": null
          },
          "name": "stderr",
          "output_type": "stream",
          "text": [
            "Epoch 37/80: 100%|██████████| 192/192 [00:52<00:00,  3.66it/s]\n"
          ]
        },
        {
          "metadata": {
            "tags": null
          },
          "name": "stdout",
          "output_type": "stream",
          "text": [
            "Epoch: 37 | Train Loss: 0.314 | Train Acc: 89.952% | Test Loss: 0.640 | Test Acc: 82.106%\n",
            "No improvement for 4 epochs. Best accuracy: 83.018%\n"
          ]
        },
        {
          "metadata": {
            "tags": null
          },
          "name": "stderr",
          "output_type": "stream",
          "text": [
            "Epoch 38/80: 100%|██████████| 192/192 [00:50<00:00,  3.83it/s]\n"
          ]
        },
        {
          "metadata": {
            "tags": null
          },
          "name": "stdout",
          "output_type": "stream",
          "text": [
            "Epoch: 38 | Train Loss: 0.312 | Train Acc: 89.911% | Test Loss: 0.599 | Test Acc: 82.757%\n",
            "No improvement for 5 epochs. Best accuracy: 83.018%\n"
          ]
        },
        {
          "metadata": {
            "tags": null
          },
          "name": "stderr",
          "output_type": "stream",
          "text": [
            "Epoch 39/80: 100%|██████████| 192/192 [00:50<00:00,  3.80it/s]\n"
          ]
        },
        {
          "metadata": {
            "tags": null
          },
          "name": "stdout",
          "output_type": "stream",
          "text": [
            "Epoch: 39 | Train Loss: 0.277 | Train Acc: 91.419% | Test Loss: 0.594 | Test Acc: 82.464%\n",
            "No improvement for 6 epochs. Best accuracy: 83.018%\n"
          ]
        },
        {
          "metadata": {
            "tags": null
          },
          "name": "stderr",
          "output_type": "stream",
          "text": [
            "Epoch 40/80: 100%|██████████| 192/192 [00:49<00:00,  3.89it/s]\n"
          ]
        },
        {
          "metadata": {
            "tags": null
          },
          "name": "stdout",
          "output_type": "stream",
          "text": [
            "Epoch: 40 | Train Loss: 0.280 | Train Acc: 91.142% | Test Loss: 0.615 | Test Acc: 81.812%\n",
            "No improvement for 7 epochs. Best accuracy: 83.018%\n"
          ]
        },
        {
          "metadata": {
            "tags": null
          },
          "name": "stderr",
          "output_type": "stream",
          "text": [
            "Epoch 41/80: 100%|██████████| 192/192 [00:50<00:00,  3.80it/s]\n"
          ]
        },
        {
          "metadata": {
            "tags": null
          },
          "name": "stdout",
          "output_type": "stream",
          "text": [
            "Epoch: 41 | Train Loss: 0.278 | Train Acc: 91.182% | Test Loss: 0.588 | Test Acc: 82.269%\n",
            "No improvement for 8 epochs. Best accuracy: 83.018%\n"
          ]
        },
        {
          "metadata": {
            "tags": null
          },
          "name": "stderr",
          "output_type": "stream",
          "text": [
            "Epoch 42/80: 100%|██████████| 192/192 [00:50<00:00,  3.78it/s]\n"
          ]
        },
        {
          "metadata": {
            "tags": null
          },
          "name": "stdout",
          "output_type": "stream",
          "text": [
            "Epoch: 42 | Train Loss: 0.262 | Train Acc: 91.565% | Test Loss: 0.611 | Test Acc: 82.855%\n",
            "No improvement for 9 epochs. Best accuracy: 83.018%\n"
          ]
        },
        {
          "metadata": {
            "tags": null
          },
          "name": "stderr",
          "output_type": "stream",
          "text": [
            "Epoch 43/80: 100%|██████████| 192/192 [00:50<00:00,  3.82it/s]\n"
          ]
        },
        {
          "metadata": {
            "tags": null
          },
          "name": "stdout",
          "output_type": "stream",
          "text": [
            "Epoch: 43 | Train Loss: 0.244 | Train Acc: 92.193% | Test Loss: 0.642 | Test Acc: 82.562%\n",
            "No improvement for 10 epochs. Best accuracy: 83.018%\n"
          ]
        },
        {
          "metadata": {
            "tags": null
          },
          "name": "stderr",
          "output_type": "stream",
          "text": [
            "Epoch 44/80: 100%|██████████| 192/192 [00:50<00:00,  3.78it/s]\n"
          ]
        },
        {
          "metadata": {
            "tags": null
          },
          "name": "stdout",
          "output_type": "stream",
          "text": [
            "Epoch: 44 | Train Loss: 0.230 | Train Acc: 92.568% | Test Loss: 0.673 | Test Acc: 81.747%\n",
            "No improvement for 11 epochs. Best accuracy: 83.018%\n"
          ]
        },
        {
          "metadata": {
            "tags": null
          },
          "name": "stderr",
          "output_type": "stream",
          "text": [
            "Epoch 45/80: 100%|██████████| 192/192 [00:48<00:00,  3.93it/s]\n"
          ]
        },
        {
          "metadata": {
            "tags": null
          },
          "name": "stdout",
          "output_type": "stream",
          "text": [
            "Epoch: 45 | Train Loss: 0.257 | Train Acc: 91.843% | Test Loss: 0.627 | Test Acc: 82.595%\n",
            "No improvement for 12 epochs. Best accuracy: 83.018%\n"
          ]
        },
        {
          "metadata": {
            "tags": null
          },
          "name": "stderr",
          "output_type": "stream",
          "text": [
            "Epoch 46/80: 100%|██████████| 192/192 [00:50<00:00,  3.83it/s]\n"
          ]
        },
        {
          "metadata": {
            "tags": null
          },
          "name": "stdout",
          "output_type": "stream",
          "text": [
            "Epoch: 46 | Train Loss: 0.212 | Train Acc: 93.587% | Test Loss: 0.672 | Test Acc: 82.269%\n",
            "No improvement for 13 epochs. Best accuracy: 83.018%\n"
          ]
        },
        {
          "metadata": {
            "tags": null
          },
          "name": "stderr",
          "output_type": "stream",
          "text": [
            "Epoch 47/80: 100%|██████████| 192/192 [00:49<00:00,  3.87it/s]\n"
          ]
        },
        {
          "metadata": {
            "tags": null
          },
          "name": "stdout",
          "output_type": "stream",
          "text": [
            "Epoch: 47 | Train Loss: 0.222 | Train Acc: 92.812% | Test Loss: 0.610 | Test Acc: 83.833%\n",
            "Saving best model with accuracy: 83.833%\n"
          ]
        },
        {
          "metadata": {
            "tags": null
          },
          "name": "stderr",
          "output_type": "stream",
          "text": [
            "Epoch 48/80: 100%|██████████| 192/192 [00:50<00:00,  3.80it/s]\n"
          ]
        },
        {
          "metadata": {
            "tags": null
          },
          "name": "stdout",
          "output_type": "stream",
          "text": [
            "Epoch: 48 | Train Loss: 0.191 | Train Acc: 93.945% | Test Loss: 0.666 | Test Acc: 83.149%\n",
            "No improvement for 1 epochs. Best accuracy: 83.833%\n"
          ]
        },
        {
          "metadata": {
            "tags": null
          },
          "name": "stderr",
          "output_type": "stream",
          "text": [
            "Epoch 49/80: 100%|██████████| 192/192 [00:50<00:00,  3.84it/s]\n"
          ]
        },
        {
          "metadata": {
            "tags": null
          },
          "name": "stdout",
          "output_type": "stream",
          "text": [
            "Epoch: 49 | Train Loss: 0.191 | Train Acc: 93.896% | Test Loss: 0.633 | Test Acc: 83.279%\n",
            "No improvement for 2 epochs. Best accuracy: 83.833%\n"
          ]
        },
        {
          "metadata": {
            "tags": null
          },
          "name": "stderr",
          "output_type": "stream",
          "text": [
            "Epoch 50/80: 100%|██████████| 192/192 [00:48<00:00,  3.92it/s]\n"
          ]
        },
        {
          "metadata": {
            "tags": null
          },
          "name": "stdout",
          "output_type": "stream",
          "text": [
            "Epoch: 50 | Train Loss: 0.179 | Train Acc: 94.328% | Test Loss: 0.655 | Test Acc: 83.116%\n",
            "No improvement for 3 epochs. Best accuracy: 83.833%\n"
          ]
        },
        {
          "metadata": {
            "tags": null
          },
          "name": "stderr",
          "output_type": "stream",
          "text": [
            "Epoch 51/80: 100%|██████████| 192/192 [00:51<00:00,  3.75it/s]\n"
          ]
        },
        {
          "metadata": {
            "tags": null
          },
          "name": "stdout",
          "output_type": "stream",
          "text": [
            "Epoch: 51 | Train Loss: 0.184 | Train Acc: 94.434% | Test Loss: 0.674 | Test Acc: 82.953%\n",
            "No improvement for 4 epochs. Best accuracy: 83.833%\n"
          ]
        },
        {
          "metadata": {
            "tags": null
          },
          "name": "stderr",
          "output_type": "stream",
          "text": [
            "Epoch 52/80: 100%|██████████| 192/192 [00:49<00:00,  3.85it/s]\n"
          ]
        },
        {
          "metadata": {
            "tags": null
          },
          "name": "stdout",
          "output_type": "stream",
          "text": [
            "Epoch: 52 | Train Loss: 0.177 | Train Acc: 94.336% | Test Loss: 0.665 | Test Acc: 83.768%\n",
            "No improvement for 5 epochs. Best accuracy: 83.833%\n"
          ]
        },
        {
          "metadata": {
            "tags": null
          },
          "name": "stderr",
          "output_type": "stream",
          "text": [
            "Epoch 53/80: 100%|██████████| 192/192 [00:49<00:00,  3.84it/s]\n"
          ]
        },
        {
          "metadata": {
            "tags": null
          },
          "name": "stdout",
          "output_type": "stream",
          "text": [
            "Epoch: 53 | Train Loss: 0.165 | Train Acc: 94.956% | Test Loss: 0.676 | Test Acc: 83.116%\n",
            "No improvement for 6 epochs. Best accuracy: 83.833%\n"
          ]
        },
        {
          "metadata": {
            "tags": null
          },
          "name": "stderr",
          "output_type": "stream",
          "text": [
            "Epoch 54/80: 100%|██████████| 192/192 [00:49<00:00,  3.85it/s]\n"
          ]
        },
        {
          "metadata": {
            "tags": null
          },
          "name": "stdout",
          "output_type": "stream",
          "text": [
            "Epoch: 54 | Train Loss: 0.152 | Train Acc: 95.290% | Test Loss: 0.753 | Test Acc: 82.138%\n",
            "No improvement for 7 epochs. Best accuracy: 83.833%\n"
          ]
        },
        {
          "metadata": {
            "tags": null
          },
          "name": "stderr",
          "output_type": "stream",
          "text": [
            "Epoch 55/80: 100%|██████████| 192/192 [00:50<00:00,  3.79it/s]\n"
          ]
        },
        {
          "metadata": {
            "tags": null
          },
          "name": "stdout",
          "output_type": "stream",
          "text": [
            "Epoch: 55 | Train Loss: 0.174 | Train Acc: 94.630% | Test Loss: 0.715 | Test Acc: 82.595%\n",
            "No improvement for 8 epochs. Best accuracy: 83.833%\n"
          ]
        },
        {
          "metadata": {
            "tags": null
          },
          "name": "stderr",
          "output_type": "stream",
          "text": [
            "Epoch 56/80: 100%|██████████| 192/192 [00:50<00:00,  3.84it/s]\n"
          ]
        },
        {
          "metadata": {
            "tags": null
          },
          "name": "stdout",
          "output_type": "stream",
          "text": [
            "Epoch: 56 | Train Loss: 0.168 | Train Acc: 94.670% | Test Loss: 0.729 | Test Acc: 81.421%\n",
            "No improvement for 9 epochs. Best accuracy: 83.833%\n"
          ]
        },
        {
          "metadata": {
            "tags": null
          },
          "name": "stderr",
          "output_type": "stream",
          "text": [
            "Epoch 57/80: 100%|██████████| 192/192 [00:50<00:00,  3.80it/s]\n"
          ]
        },
        {
          "metadata": {
            "tags": null
          },
          "name": "stdout",
          "output_type": "stream",
          "text": [
            "Epoch: 57 | Train Loss: 0.200 | Train Acc: 94.035% | Test Loss: 0.694 | Test Acc: 81.975%\n",
            "No improvement for 10 epochs. Best accuracy: 83.833%\n"
          ]
        },
        {
          "metadata": {
            "tags": null
          },
          "name": "stderr",
          "output_type": "stream",
          "text": [
            "Epoch 58/80: 100%|██████████| 192/192 [00:50<00:00,  3.81it/s]\n"
          ]
        },
        {
          "metadata": {
            "tags": null
          },
          "name": "stdout",
          "output_type": "stream",
          "text": [
            "Epoch: 58 | Train Loss: 0.183 | Train Acc: 94.230% | Test Loss: 0.691 | Test Acc: 82.106%\n",
            "No improvement for 11 epochs. Best accuracy: 83.833%\n"
          ]
        },
        {
          "metadata": {
            "tags": null
          },
          "name": "stderr",
          "output_type": "stream",
          "text": [
            "Epoch 59/80: 100%|██████████| 192/192 [00:49<00:00,  3.87it/s]\n"
          ]
        },
        {
          "metadata": {
            "tags": null
          },
          "name": "stdout",
          "output_type": "stream",
          "text": [
            "Epoch: 59 | Train Loss: 0.168 | Train Acc: 95.004% | Test Loss: 0.692 | Test Acc: 82.497%\n",
            "No improvement for 12 epochs. Best accuracy: 83.833%\n"
          ]
        },
        {
          "output_type": "stream",
          "name": "stderr",
          "text": [
            "Epoch 60/80: 100%|██████████| 192/192 [00:50<00:00,  3.76it/s]\n"
          ]
        },
        {
          "output_type": "stream",
          "name": "stdout",
          "text": [
            "Epoch: 60 | Train Loss: 0.163 | Train Acc: 95.290% | Test Loss: 0.705 | Test Acc: 82.040%\n",
            "No improvement for 13 epochs. Best accuracy: 83.833%\n"
          ]
        },
        {
          "output_type": "stream",
          "name": "stderr",
          "text": [
            "Epoch 61/80: 100%|██████████| 192/192 [00:49<00:00,  3.86it/s]\n"
          ]
        },
        {
          "output_type": "stream",
          "name": "stdout",
          "text": [
            "Epoch: 61 | Train Loss: 0.170 | Train Acc: 94.621% | Test Loss: 0.718 | Test Acc: 82.399%\n",
            "No improvement for 14 epochs. Best accuracy: 83.833%\n"
          ]
        },
        {
          "output_type": "stream",
          "name": "stderr",
          "text": [
            "Epoch 62/80: 100%|██████████| 192/192 [00:50<00:00,  3.78it/s]\n"
          ]
        },
        {
          "output_type": "stream",
          "name": "stdout",
          "text": [
            "Epoch: 62 | Train Loss: 0.160 | Train Acc: 95.192% | Test Loss: 0.701 | Test Acc: 82.432%\n",
            "No improvement for 15 epochs. Best accuracy: 83.833%\n",
            "Early stopping after 15 epochs without improvement\n",
            "Final model saved to /content/drive/MyDrive/emotion_models/rafdb_final_model.pth\n",
            "Best test accuracy: 83.833%\n",
            "\n",
            "Classification Report:\n",
            "              precision    recall  f1-score   support\n",
            "\n",
            "   Surprised       0.83      0.85      0.84       329\n",
            "     Fearful       0.63      0.55      0.59        74\n",
            "   Disgusted       0.54      0.52      0.53       160\n",
            "       Happy       0.92      0.92      0.92      1185\n",
            "         Sad       0.77      0.78      0.78       478\n",
            "       Angry       0.77      0.72      0.74       162\n",
            "     Neutral       0.79      0.80      0.79       680\n",
            "\n",
            "    accuracy                           0.82      3068\n",
            "   macro avg       0.75      0.73      0.74      3068\n",
            "weighted avg       0.82      0.82      0.82      3068\n",
            "\n",
            "\n",
            "Emotion-wise Accuracy:\n",
            "Surprised: 85.41%\n",
            "Fearful: 55.41%\n",
            "Disgusted: 51.88%\n",
            "Happy: 92.07%\n",
            "Sad: 77.82%\n",
            "Angry: 71.60%\n",
            "Neutral: 80.15%\n"
          ]
        }
      ]
    },
    {
      "cell_type": "code",
      "source": [
        "import torch\n",
        "import torch.nn as nn\n",
        "import torch.nn.functional as F\n",
        "from torchvision import transforms\n",
        "from PIL import Image\n",
        "import numpy as np\n",
        "import cv2\n",
        "from google.colab.patches import cv2_imshow\n",
        "from google.colab import files\n",
        "import io\n",
        "\n",
        "def detect_face(image):\n",
        "    \"\"\"\n",
        "    Detect faces in an image using Haar Cascade Classifier\n",
        "    \"\"\"\n",
        "    # Convert image to grayscale\n",
        "    if isinstance(image, np.ndarray):\n",
        "        gray = cv2.cvtColor(image, cv2.COLOR_BGR2GRAY)\n",
        "    else:\n",
        "        # If it's a PIL Image, convert to numpy array first\n",
        "        gray = cv2.cvtColor(np.array(image), cv2.COLOR_RGB2GRAY)\n",
        "\n",
        "    # Load pre-trained face detection classifier\n",
        "    face_cascade = cv2.CascadeClassifier(cv2.data.haarcascades + 'haarcascade_frontalface_default.xml')\n",
        "\n",
        "    # Detect faces\n",
        "    faces = face_cascade.detectMultiScale(gray, 1.1, 4)\n",
        "\n",
        "    return faces\n",
        "\n",
        "def colab_webcam_emotion_detection(model, device, transform):\n",
        "    \"\"\"\n",
        "    Webcam emotion detection for Google Colab using camera module\n",
        "    \"\"\"\n",
        "    print(\"Webcam Emotion Detection in Colab\")\n",
        "    print(\"1. Use the camera module to capture images\")\n",
        "    print(\"2. Close the camera window to stop\")\n",
        "\n",
        "    from IPython.display import display, Javascript\n",
        "    from google.colab.output import eval_js\n",
        "    from base64 import b64decode\n",
        "\n",
        "    # JavaScript to capture image from browser's camera\n",
        "    def take_photo(filename='photo.jpg', quality=0.8):\n",
        "        js = Javascript('''\n",
        "            async function takePhoto(quality) {\n",
        "                const div = document.createElement('div');\n",
        "                const capture = document.createElement('button');\n",
        "                capture.textContent = 'Capture';\n",
        "                div.appendChild(capture);\n",
        "\n",
        "                const video = document.createElement('video');\n",
        "                video.style.display = 'block';\n",
        "                const stream = await navigator.mediaDevices.getUserMedia({video: true});\n",
        "\n",
        "                document.body.appendChild(div);\n",
        "                document.body.appendChild(video);\n",
        "\n",
        "                video.srcObject = stream;\n",
        "                await video.play();\n",
        "\n",
        "                // Ensure camera is stable\n",
        "                await new Promise(resolve => setTimeout(resolve, 1000));\n",
        "\n",
        "                return new Promise((resolve, reject) => {\n",
        "                    capture.onclick = () => {\n",
        "                        const canvas = document.createElement('canvas');\n",
        "                        canvas.width = video.videoWidth;\n",
        "                        canvas.height = video.videoHeight;\n",
        "                        canvas.getContext('2d').drawImage(video, 0, 0);\n",
        "                        const image = canvas.toDataURL('image/jpeg', quality);\n",
        "                        stream.getTracks()[0].stop();\n",
        "                        document.body.removeChild(div);\n",
        "                        document.body.removeChild(video);\n",
        "                        google.colab.output.setIframeHeight(0, true, {maxHeight: 0});\n",
        "                        resolve(image);\n",
        "                    };\n",
        "\n",
        "                    // Add cancel option\n",
        "                    const cancel = document.createElement('button');\n",
        "                    cancel.textContent = 'Cancel';\n",
        "                    div.appendChild(cancel);\n",
        "                    cancel.onclick = () => {\n",
        "                        stream.getTracks()[0].stop();\n",
        "                        document.body.removeChild(div);\n",
        "                        document.body.removeChild(video);\n",
        "                        google.colab.output.setIframeHeight(0, true, {maxHeight: 0});\n",
        "                        resolve(null);\n",
        "                    };\n",
        "                });\n",
        "            }\n",
        "            takePhoto({})\n",
        "        ''')\n",
        "        display(js)\n",
        "        data = eval_js('takePhoto({})'.format(quality))\n",
        "        return data\n",
        "\n",
        "    try:\n",
        "        # Capture photo\n",
        "        image_data = take_photo()\n",
        "\n",
        "        # Check if image capture was cancelled\n",
        "        if image_data is None:\n",
        "            print(\"Image capture cancelled.\")\n",
        "            return\n",
        "\n",
        "        # Decode the base64 image\n",
        "        image_bytes = b64decode(image_data.split(',')[1])\n",
        "        image_array = np.frombuffer(image_bytes, dtype=np.uint8)\n",
        "        image = cv2.imdecode(image_array, cv2.IMREAD_COLOR)\n",
        "\n",
        "        # Detect faces\n",
        "        faces = detect_face(image)\n",
        "\n",
        "        if len(faces) == 0:\n",
        "            print(\"No faces detected in the image\")\n",
        "            return\n",
        "\n",
        "        # Process each detected face\n",
        "        for (x, y, w, h) in faces:\n",
        "            # Extract face region\n",
        "            face_frame = image[y:y+h, x:x+w]\n",
        "\n",
        "            # Convert to PIL Image for model preprocessing\n",
        "            pil_image = Image.fromarray(cv2.cvtColor(face_frame, cv2.COLOR_BGR2RGB))\n",
        "\n",
        "            try:\n",
        "                # Predict emotion\n",
        "                emotion, confidence = predict_emotion(model, pil_image, device, transform)\n",
        "\n",
        "                # Draw rectangle and emotion text\n",
        "                cv2.rectangle(image, (x, y), (x+w, y+h), (255, 0, 0), 2)\n",
        "                label = f\"{emotion} ({confidence:.2f}%)\"\n",
        "                cv2.putText(image, label, (x, y-10),\n",
        "                            cv2.FONT_HERSHEY_SIMPLEX, 0.9, (36,255,12), 2)\n",
        "\n",
        "            except Exception as e:\n",
        "                print(f\"Error processing face: {e}\")\n",
        "\n",
        "        # Display the image with detections\n",
        "        print(\"Showing emotion detection results\")\n",
        "        cv2_imshow(image)\n",
        "\n",
        "    except Exception as e:\n",
        "        print(f\"An error occurred: {e}\")\n",
        "def get_transform():\n",
        "    \"\"\"\n",
        "    Returns the transformation pipeline for emotion detection\n",
        "    \"\"\"\n",
        "    return transforms.Compose([\n",
        "        transforms.Resize((96, 96)),  # Fixed size\n",
        "        transforms.ToTensor(),\n",
        "        transforms.Normalize(\n",
        "            mean=[0.485, 0.456, 0.406],\n",
        "            std=[0.229, 0.224, 0.225]\n",
        "        )\n",
        "    ])\n",
        "\n",
        "def predict_emotion(model, image, device, transform):\n",
        "    \"\"\"\n",
        "    Predicts the emotion in a given image.\n",
        "    \"\"\"\n",
        "    # 1. Preprocess the image\n",
        "    image = transform(image).unsqueeze(0).to(device)\n",
        "\n",
        "    # 2. Get model predictions\n",
        "    with torch.no_grad():\n",
        "        outputs = model(image)  # Get model predictions\n",
        "        _, predicted = torch.max(outputs, 1)  # Get predicted class\n",
        "\n",
        "    # 3. Get emotion label and confidence\n",
        "    emotion = emotion_names[predicted.item()]  # Access emotion label\n",
        "    confidence = F.softmax(outputs, dim=1)[0][predicted.item()].item() * 100  # Use F.softmax\n",
        "\n",
        "    return emotion, confidence\n",
        "def load_model(model_path, num_classes=7):\n",
        "    \"\"\"\n",
        "    Loads the saved model from the given path.\n",
        "    \"\"\"\n",
        "    # Initialize the model with the correct number of classes\n",
        "    model = ResEmoteNet(num_classes=num_classes).to(device)\n",
        "\n",
        "    # Load the saved model state\n",
        "    checkpoint = torch.load(model_path)\n",
        "\n",
        "    # 1. Filter out unexpected keys\n",
        "    filtered_state_dict = {k: v for k, v in checkpoint['model'].items() if k in model.state_dict()}\n",
        "\n",
        "    # 2. Load the filtered state_dict into the model\n",
        "    model.load_state_dict(filtered_state_dict, strict=False)\n",
        "    # strict=False allows loading even if some keys are missing\n",
        "\n",
        "    model.eval()\n",
        "    return model, device\n",
        "\n",
        "\n",
        "def main():\n",
        "    # Path to your saved model (update this to match your Google Drive path)\n",
        "    model_path = '/content/drive/MyDrive/emotion_models/rafdb_final_model.pth'\n",
        "    model, device = load_model(model_path)\n",
        "\n",
        "    transform = get_transform()\n",
        "\n",
        "    # Menu for input selection\n",
        "    while True:\n",
        "        print(\"\\nEmotion Detection Menu:\")\n",
        "        print(\"1. Upload Image\")\n",
        "        print(\"2. Webcam Detection\")\n",
        "        print(\"3. Exit\")\n",
        "\n",
        "        choice = input(\"Enter your choice (1-3): \")\n",
        "\n",
        "        if choice == '1':\n",
        "            upload_image_emotion_detection(model, device, transform)\n",
        "        elif choice == '2':\n",
        "            colab_webcam_emotion_detection(model, device, transform)\n",
        "        elif choice == '3':\n",
        "            print(\"Exiting the program.\")\n",
        "            break\n",
        "        else:\n",
        "            print(\"Invalid choice. Please try again.\")\n",
        "\n",
        "if __name__ == \"__main__\":\n",
        "    main()"
      ],
      "metadata": {
        "colab": {
          "base_uri": "https://localhost:8080/",
          "height": 1000
        },
        "id": "cy-pVY30CC3K",
        "outputId": "a5979c7a-4f1f-41eb-c2d1-0a58550ef5f3"
      },
      "execution_count": null,
      "outputs": [
        {
          "output_type": "stream",
          "name": "stdout",
          "text": [
            "\n",
            "Emotion Detection Menu:\n",
            "1. Upload Image\n",
            "2. Webcam Detection\n",
            "3. Exit\n",
            "Enter your choice (1-3): 1\n",
            "Image Upload Emotion Detection\n",
            "1. Upload an image file\n",
            "2. The script will detect faces and predict emotions\n"
          ]
        },
        {
          "output_type": "display_data",
          "data": {
            "text/plain": [
              "<IPython.core.display.HTML object>"
            ],
            "text/html": [
              "\n",
              "     <input type=\"file\" id=\"files-c2d71e62-f18b-43aa-80d3-58fa4cc41d4b\" name=\"files[]\" multiple disabled\n",
              "        style=\"border:none\" />\n",
              "     <output id=\"result-c2d71e62-f18b-43aa-80d3-58fa4cc41d4b\">\n",
              "      Upload widget is only available when the cell has been executed in the\n",
              "      current browser session. Please rerun this cell to enable.\n",
              "      </output>\n",
              "      <script>// Copyright 2017 Google LLC\n",
              "//\n",
              "// Licensed under the Apache License, Version 2.0 (the \"License\");\n",
              "// you may not use this file except in compliance with the License.\n",
              "// You may obtain a copy of the License at\n",
              "//\n",
              "//      http://www.apache.org/licenses/LICENSE-2.0\n",
              "//\n",
              "// Unless required by applicable law or agreed to in writing, software\n",
              "// distributed under the License is distributed on an \"AS IS\" BASIS,\n",
              "// WITHOUT WARRANTIES OR CONDITIONS OF ANY KIND, either express or implied.\n",
              "// See the License for the specific language governing permissions and\n",
              "// limitations under the License.\n",
              "\n",
              "/**\n",
              " * @fileoverview Helpers for google.colab Python module.\n",
              " */\n",
              "(function(scope) {\n",
              "function span(text, styleAttributes = {}) {\n",
              "  const element = document.createElement('span');\n",
              "  element.textContent = text;\n",
              "  for (const key of Object.keys(styleAttributes)) {\n",
              "    element.style[key] = styleAttributes[key];\n",
              "  }\n",
              "  return element;\n",
              "}\n",
              "\n",
              "// Max number of bytes which will be uploaded at a time.\n",
              "const MAX_PAYLOAD_SIZE = 100 * 1024;\n",
              "\n",
              "function _uploadFiles(inputId, outputId) {\n",
              "  const steps = uploadFilesStep(inputId, outputId);\n",
              "  const outputElement = document.getElementById(outputId);\n",
              "  // Cache steps on the outputElement to make it available for the next call\n",
              "  // to uploadFilesContinue from Python.\n",
              "  outputElement.steps = steps;\n",
              "\n",
              "  return _uploadFilesContinue(outputId);\n",
              "}\n",
              "\n",
              "// This is roughly an async generator (not supported in the browser yet),\n",
              "// where there are multiple asynchronous steps and the Python side is going\n",
              "// to poll for completion of each step.\n",
              "// This uses a Promise to block the python side on completion of each step,\n",
              "// then passes the result of the previous step as the input to the next step.\n",
              "function _uploadFilesContinue(outputId) {\n",
              "  const outputElement = document.getElementById(outputId);\n",
              "  const steps = outputElement.steps;\n",
              "\n",
              "  const next = steps.next(outputElement.lastPromiseValue);\n",
              "  return Promise.resolve(next.value.promise).then((value) => {\n",
              "    // Cache the last promise value to make it available to the next\n",
              "    // step of the generator.\n",
              "    outputElement.lastPromiseValue = value;\n",
              "    return next.value.response;\n",
              "  });\n",
              "}\n",
              "\n",
              "/**\n",
              " * Generator function which is called between each async step of the upload\n",
              " * process.\n",
              " * @param {string} inputId Element ID of the input file picker element.\n",
              " * @param {string} outputId Element ID of the output display.\n",
              " * @return {!Iterable<!Object>} Iterable of next steps.\n",
              " */\n",
              "function* uploadFilesStep(inputId, outputId) {\n",
              "  const inputElement = document.getElementById(inputId);\n",
              "  inputElement.disabled = false;\n",
              "\n",
              "  const outputElement = document.getElementById(outputId);\n",
              "  outputElement.innerHTML = '';\n",
              "\n",
              "  const pickedPromise = new Promise((resolve) => {\n",
              "    inputElement.addEventListener('change', (e) => {\n",
              "      resolve(e.target.files);\n",
              "    });\n",
              "  });\n",
              "\n",
              "  const cancel = document.createElement('button');\n",
              "  inputElement.parentElement.appendChild(cancel);\n",
              "  cancel.textContent = 'Cancel upload';\n",
              "  const cancelPromise = new Promise((resolve) => {\n",
              "    cancel.onclick = () => {\n",
              "      resolve(null);\n",
              "    };\n",
              "  });\n",
              "\n",
              "  // Wait for the user to pick the files.\n",
              "  const files = yield {\n",
              "    promise: Promise.race([pickedPromise, cancelPromise]),\n",
              "    response: {\n",
              "      action: 'starting',\n",
              "    }\n",
              "  };\n",
              "\n",
              "  cancel.remove();\n",
              "\n",
              "  // Disable the input element since further picks are not allowed.\n",
              "  inputElement.disabled = true;\n",
              "\n",
              "  if (!files) {\n",
              "    return {\n",
              "      response: {\n",
              "        action: 'complete',\n",
              "      }\n",
              "    };\n",
              "  }\n",
              "\n",
              "  for (const file of files) {\n",
              "    const li = document.createElement('li');\n",
              "    li.append(span(file.name, {fontWeight: 'bold'}));\n",
              "    li.append(span(\n",
              "        `(${file.type || 'n/a'}) - ${file.size} bytes, ` +\n",
              "        `last modified: ${\n",
              "            file.lastModifiedDate ? file.lastModifiedDate.toLocaleDateString() :\n",
              "                                    'n/a'} - `));\n",
              "    const percent = span('0% done');\n",
              "    li.appendChild(percent);\n",
              "\n",
              "    outputElement.appendChild(li);\n",
              "\n",
              "    const fileDataPromise = new Promise((resolve) => {\n",
              "      const reader = new FileReader();\n",
              "      reader.onload = (e) => {\n",
              "        resolve(e.target.result);\n",
              "      };\n",
              "      reader.readAsArrayBuffer(file);\n",
              "    });\n",
              "    // Wait for the data to be ready.\n",
              "    let fileData = yield {\n",
              "      promise: fileDataPromise,\n",
              "      response: {\n",
              "        action: 'continue',\n",
              "      }\n",
              "    };\n",
              "\n",
              "    // Use a chunked sending to avoid message size limits. See b/62115660.\n",
              "    let position = 0;\n",
              "    do {\n",
              "      const length = Math.min(fileData.byteLength - position, MAX_PAYLOAD_SIZE);\n",
              "      const chunk = new Uint8Array(fileData, position, length);\n",
              "      position += length;\n",
              "\n",
              "      const base64 = btoa(String.fromCharCode.apply(null, chunk));\n",
              "      yield {\n",
              "        response: {\n",
              "          action: 'append',\n",
              "          file: file.name,\n",
              "          data: base64,\n",
              "        },\n",
              "      };\n",
              "\n",
              "      let percentDone = fileData.byteLength === 0 ?\n",
              "          100 :\n",
              "          Math.round((position / fileData.byteLength) * 100);\n",
              "      percent.textContent = `${percentDone}% done`;\n",
              "\n",
              "    } while (position < fileData.byteLength);\n",
              "  }\n",
              "\n",
              "  // All done.\n",
              "  yield {\n",
              "    response: {\n",
              "      action: 'complete',\n",
              "    }\n",
              "  };\n",
              "}\n",
              "\n",
              "scope.google = scope.google || {};\n",
              "scope.google.colab = scope.google.colab || {};\n",
              "scope.google.colab._files = {\n",
              "  _uploadFiles,\n",
              "  _uploadFilesContinue,\n",
              "};\n",
              "})(self);\n",
              "</script> "
            ]
          },
          "metadata": {}
        },
        {
          "output_type": "stream",
          "name": "stdout",
          "text": [
            "Saving ang.jpeg to ang.jpeg\n",
            "Showing detections for ang.jpeg\n"
          ]
        },
        {
          "output_type": "display_data",
          "data": {
            "text/plain": [
              "<PIL.Image.Image image mode=RGB size=178x148>"
            ],
            "image/png": "[encoded data removed]",
            "image/jpeg": "[encoded data removed]"
          },
          "metadata": {}
        },
        {
          "output_type": "stream",
          "name": "stdout",
          "text": [
            "\n",
            "Emotion Detection Menu:\n",
            "1. Upload Image\n",
            "2. Webcam Detection\n",
            "3. Exit\n",
            "Enter your choice (1-3): 1\n",
            "Image Upload Emotion Detection\n",
            "1. Upload an image file\n",
            "2. The script will detect faces and predict emotions\n"
          ]
        },
        {
          "output_type": "display_data",
          "data": {
            "text/plain": [
              "<IPython.core.display.HTML object>"
            ],
            "text/html": [
              "\n",
              "     <input type=\"file\" id=\"files-48a77a9e-2e68-4a59-9fb9-24705c1e7ad5\" name=\"files[]\" multiple disabled\n",
              "        style=\"border:none\" />\n",
              "     <output id=\"result-48a77a9e-2e68-4a59-9fb9-24705c1e7ad5\">\n",
              "      Upload widget is only available when the cell has been executed in the\n",
              "      current browser session. Please rerun this cell to enable.\n",
              "      </output>\n",
              "      <script>// Copyright 2017 Google LLC\n",
              "//\n",
              "// Licensed under the Apache License, Version 2.0 (the \"License\");\n",
              "// you may not use this file except in compliance with the License.\n",
              "// You may obtain a copy of the License at\n",
              "//\n",
              "//      http://www.apache.org/licenses/LICENSE-2.0\n",
              "//\n",
              "// Unless required by applicable law or agreed to in writing, software\n",
              "// distributed under the License is distributed on an \"AS IS\" BASIS,\n",
              "// WITHOUT WARRANTIES OR CONDITIONS OF ANY KIND, either express or implied.\n",
              "// See the License for the specific language governing permissions and\n",
              "// limitations under the License.\n",
              "\n",
              "/**\n",
              " * @fileoverview Helpers for google.colab Python module.\n",
              " */\n",
              "(function(scope) {\n",
              "function span(text, styleAttributes = {}) {\n",
              "  const element = document.createElement('span');\n",
              "  element.textContent = text;\n",
              "  for (const key of Object.keys(styleAttributes)) {\n",
              "    element.style[key] = styleAttributes[key];\n",
              "  }\n",
              "  return element;\n",
              "}\n",
              "\n",
              "// Max number of bytes which will be uploaded at a time.\n",
              "const MAX_PAYLOAD_SIZE = 100 * 1024;\n",
              "\n",
              "function _uploadFiles(inputId, outputId) {\n",
              "  const steps = uploadFilesStep(inputId, outputId);\n",
              "  const outputElement = document.getElementById(outputId);\n",
              "  // Cache steps on the outputElement to make it available for the next call\n",
              "  // to uploadFilesContinue from Python.\n",
              "  outputElement.steps = steps;\n",
              "\n",
              "  return _uploadFilesContinue(outputId);\n",
              "}\n",
              "\n",
              "// This is roughly an async generator (not supported in the browser yet),\n",
              "// where there are multiple asynchronous steps and the Python side is going\n",
              "// to poll for completion of each step.\n",
              "// This uses a Promise to block the python side on completion of each step,\n",
              "// then passes the result of the previous step as the input to the next step.\n",
              "function _uploadFilesContinue(outputId) {\n",
              "  const outputElement = document.getElementById(outputId);\n",
              "  const steps = outputElement.steps;\n",
              "\n",
              "  const next = steps.next(outputElement.lastPromiseValue);\n",
              "  return Promise.resolve(next.value.promise).then((value) => {\n",
              "    // Cache the last promise value to make it available to the next\n",
              "    // step of the generator.\n",
              "    outputElement.lastPromiseValue = value;\n",
              "    return next.value.response;\n",
              "  });\n",
              "}\n",
              "\n",
              "/**\n",
              " * Generator function which is called between each async step of the upload\n",
              " * process.\n",
              " * @param {string} inputId Element ID of the input file picker element.\n",
              " * @param {string} outputId Element ID of the output display.\n",
              " * @return {!Iterable<!Object>} Iterable of next steps.\n",
              " */\n",
              "function* uploadFilesStep(inputId, outputId) {\n",
              "  const inputElement = document.getElementById(inputId);\n",
              "  inputElement.disabled = false;\n",
              "\n",
              "  const outputElement = document.getElementById(outputId);\n",
              "  outputElement.innerHTML = '';\n",
              "\n",
              "  const pickedPromise = new Promise((resolve) => {\n",
              "    inputElement.addEventListener('change', (e) => {\n",
              "      resolve(e.target.files);\n",
              "    });\n",
              "  });\n",
              "\n",
              "  const cancel = document.createElement('button');\n",
              "  inputElement.parentElement.appendChild(cancel);\n",
              "  cancel.textContent = 'Cancel upload';\n",
              "  const cancelPromise = new Promise((resolve) => {\n",
              "    cancel.onclick = () => {\n",
              "      resolve(null);\n",
              "    };\n",
              "  });\n",
              "\n",
              "  // Wait for the user to pick the files.\n",
              "  const files = yield {\n",
              "    promise: Promise.race([pickedPromise, cancelPromise]),\n",
              "    response: {\n",
              "      action: 'starting',\n",
              "    }\n",
              "  };\n",
              "\n",
              "  cancel.remove();\n",
              "\n",
              "  // Disable the input element since further picks are not allowed.\n",
              "  inputElement.disabled = true;\n",
              "\n",
              "  if (!files) {\n",
              "    return {\n",
              "      response: {\n",
              "        action: 'complete',\n",
              "      }\n",
              "    };\n",
              "  }\n",
              "\n",
              "  for (const file of files) {\n",
              "    const li = document.createElement('li');\n",
              "    li.append(span(file.name, {fontWeight: 'bold'}));\n",
              "    li.append(span(\n",
              "        `(${file.type || 'n/a'}) - ${file.size} bytes, ` +\n",
              "        `last modified: ${\n",
              "            file.lastModifiedDate ? file.lastModifiedDate.toLocaleDateString() :\n",
              "                                    'n/a'} - `));\n",
              "    const percent = span('0% done');\n",
              "    li.appendChild(percent);\n",
              "\n",
              "    outputElement.appendChild(li);\n",
              "\n",
              "    const fileDataPromise = new Promise((resolve) => {\n",
              "      const reader = new FileReader();\n",
              "      reader.onload = (e) => {\n",
              "        resolve(e.target.result);\n",
              "      };\n",
              "      reader.readAsArrayBuffer(file);\n",
              "    });\n",
              "    // Wait for the data to be ready.\n",
              "    let fileData = yield {\n",
              "      promise: fileDataPromise,\n",
              "      response: {\n",
              "        action: 'continue',\n",
              "      }\n",
              "    };\n",
              "\n",
              "    // Use a chunked sending to avoid message size limits. See b/62115660.\n",
              "    let position = 0;\n",
              "    do {\n",
              "      const length = Math.min(fileData.byteLength - position, MAX_PAYLOAD_SIZE);\n",
              "      const chunk = new Uint8Array(fileData, position, length);\n",
              "      position += length;\n",
              "\n",
              "      const base64 = btoa(String.fromCharCode.apply(null, chunk));\n",
              "      yield {\n",
              "        response: {\n",
              "          action: 'append',\n",
              "          file: file.name,\n",
              "          data: base64,\n",
              "        },\n",
              "      };\n",
              "\n",
              "      let percentDone = fileData.byteLength === 0 ?\n",
              "          100 :\n",
              "          Math.round((position / fileData.byteLength) * 100);\n",
              "      percent.textContent = `${percentDone}% done`;\n",
              "\n",
              "    } while (position < fileData.byteLength);\n",
              "  }\n",
              "\n",
              "  // All done.\n",
              "  yield {\n",
              "    response: {\n",
              "      action: 'complete',\n",
              "    }\n",
              "  };\n",
              "}\n",
              "\n",
              "scope.google = scope.google || {};\n",
              "scope.google.colab = scope.google.colab || {};\n",
              "scope.google.colab._files = {\n",
              "  _uploadFiles,\n",
              "  _uploadFilesContinue,\n",
              "};\n",
              "})(self);\n",
              "</script> "
            ]
          },
          "metadata": {}
        },
        {
          "output_type": "stream",
          "name": "stdout",
          "text": [
            "Saving sag.jpg to sag (10).jpg\n",
            "Showing detections for sag (10).jpg\n"
          ]
        },
        {
          "output_type": "display_data",
          "data": {
            "text/plain": [
              "<PIL.Image.Image image mode=RGB size=612x407>"
            ],
            "image/png": "[encoded data removed]",
            "image/jpeg": "[encoded data removed]"
          },
          "metadata": {}
        },
        {
          "output_type": "stream",
          "name": "stdout",
          "text": [
            "\n",
            "Emotion Detection Menu:\n",
            "1. Upload Image\n",
            "2. Webcam Detection\n",
            "3. Exit\n"
          ]
        }
      ]
    },
    {
      "cell_type": "code",
      "source": [],
      "metadata": {
        "id": "4GkfzTZcIIZ-"
      },
      "execution_count": null,
      "outputs": []
    }
  ]
}